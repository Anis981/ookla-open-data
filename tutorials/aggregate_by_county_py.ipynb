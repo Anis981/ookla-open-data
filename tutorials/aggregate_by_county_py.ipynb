{
 "cells": [
  {
   "cell_type": "markdown",
   "metadata": {},
   "source": [
    "# Analyzing download speeds in Kentucky counties using Python"
   ]
  },
  {
   "cell_type": "markdown",
   "metadata": {},
   "source": [
    "In this tutorial I will talk about how to:\n",
    "\n",
    "    * Download the Ookla open dataset\n",
    "    * Geocode the tiles to Kentucky counties\n",
    "    * Make a table of the top and bottom 20 counties by download speed\n",
    "    * Map the counties\n",
    "\n",
    "There are two main ways to join these tiles to another geographic dataset: quadkeys and spatial joins. This tutorial will use the spatial join approach."
   ]
  },
  {
   "cell_type": "code",
   "execution_count": 50,
   "metadata": {},
   "outputs": [],
   "source": [
    "%matplotlib inline\n",
    "\n",
    "from datetime import datetime\n",
    "\n",
    "import geopandas as gp\n",
    "import matplotlib\n",
    "import matplotlib.pyplot as plt\n",
    "import pandas as pd\n",
    "import numpy as np\n",
    "\n",
    "from shapely.geometry import Point\n",
    "from adjustText import adjust_text"
   ]
  },
  {
   "cell_type": "markdown",
   "metadata": {},
   "source": [
    "---\n",
    "\n",
    "## Download data\n",
    "\n",
    "First, download the data using the link below"
   ]
  },
  {
   "cell_type": "code",
   "execution_count": 51,
   "metadata": {},
   "outputs": [],
   "source": [
    "def quarter_start(year: int, q: int) -> datetime:\n",
    "    if not 1 <= q <= 4:\n",
    "        raise ValueError(\"Quarter must be within [1, 2, 3, 4]\")\n",
    "\n",
    "    month = [1, 4, 7, 10]\n",
    "    return datetime(year, month[q - 1], 1)\n",
    "\n",
    "\n",
    "def get_tile_url(service_type: str, year: int, q: int) -> str:\n",
    "    dt = quarter_start(year, q)\n",
    "\n",
    "    base_url = \"https://ookla-open-data.s3-us-west-2.amazonaws.com/shapefiles/performance\"\n",
    "    url = f\"{base_url}/type%3D{service_type}/year%3D{dt:%Y}/quarter%3D{q}/{dt:%Y-%m-%d}_performance_fixed_tiles.zip\"\n",
    "    return url"
   ]
  },
  {
   "cell_type": "code",
   "execution_count": 52,
   "metadata": {},
   "outputs": [
    {
     "data": {
      "text/plain": [
       "'https://ookla-open-data.s3-us-west-2.amazonaws.com/shapefiles/performance/type%3Dfixed/year%3D2020/quarter%3D2/2020-04-01_performance_fixed_tiles.zip'"
      ]
     },
     "execution_count": 52,
     "metadata": {},
     "output_type": "execute_result"
    }
   ],
   "source": [
    "tile_url = get_tile_url(\"fixed\", 2020, 2)\n",
    "tile_url"
   ]
  },
  {
   "cell_type": "code",
   "execution_count": 53,
   "metadata": {},
   "outputs": [],
   "source": [
    "tiles = gp.read_file(tile_url)"
   ]
  },
  {
   "cell_type": "code",
   "execution_count": 54,
   "metadata": {},
   "outputs": [
    {
     "data": {
      "text/html": [
       "<div>\n",
       "<style scoped>\n",
       "    .dataframe tbody tr th:only-of-type {\n",
       "        vertical-align: middle;\n",
       "    }\n",
       "\n",
       "    .dataframe tbody tr th {\n",
       "        vertical-align: top;\n",
       "    }\n",
       "\n",
       "    .dataframe thead th {\n",
       "        text-align: right;\n",
       "    }\n",
       "</style>\n",
       "<table border=\"1\" class=\"dataframe\">\n",
       "  <thead>\n",
       "    <tr style=\"text-align: right;\">\n",
       "      <th></th>\n",
       "      <th>quadkey</th>\n",
       "      <th>avg_d_kbps</th>\n",
       "      <th>avg_u_kbps</th>\n",
       "      <th>avg_lat_ms</th>\n",
       "      <th>tests</th>\n",
       "      <th>devices</th>\n",
       "      <th>geometry</th>\n",
       "    </tr>\n",
       "  </thead>\n",
       "  <tbody>\n",
       "    <tr>\n",
       "      <th>0</th>\n",
       "      <td>1321222233020202</td>\n",
       "      <td>144116</td>\n",
       "      <td>125751</td>\n",
       "      <td>3</td>\n",
       "      <td>7330</td>\n",
       "      <td>1324</td>\n",
       "      <td>POLYGON ((113.55469 22.16197, 113.56018 22.161...</td>\n",
       "    </tr>\n",
       "    <tr>\n",
       "      <th>1</th>\n",
       "      <td>1230231303303002</td>\n",
       "      <td>89763</td>\n",
       "      <td>52939</td>\n",
       "      <td>42</td>\n",
       "      <td>726</td>\n",
       "      <td>137</td>\n",
       "      <td>POLYGON ((55.41504 25.27947, 55.42053 25.27947...</td>\n",
       "    </tr>\n",
       "    <tr>\n",
       "      <th>2</th>\n",
       "      <td>0313131210131030</td>\n",
       "      <td>62657</td>\n",
       "      <td>15479</td>\n",
       "      <td>19</td>\n",
       "      <td>271</td>\n",
       "      <td>40</td>\n",
       "      <td>POLYGON ((-1.79077 51.55658, -1.78528 51.55658...</td>\n",
       "    </tr>\n",
       "    <tr>\n",
       "      <th>3</th>\n",
       "      <td>0213330110110321</td>\n",
       "      <td>98061</td>\n",
       "      <td>11842</td>\n",
       "      <td>19</td>\n",
       "      <td>2</td>\n",
       "      <td>1</td>\n",
       "      <td>POLYGON ((-93.22449 45.06576, -93.21899 45.065...</td>\n",
       "    </tr>\n",
       "    <tr>\n",
       "      <th>4</th>\n",
       "      <td>3100130032202231</td>\n",
       "      <td>15167</td>\n",
       "      <td>7287</td>\n",
       "      <td>8</td>\n",
       "      <td>674</td>\n",
       "      <td>122</td>\n",
       "      <td>POLYGON ((107.59460 -6.91552, 107.60010 -6.915...</td>\n",
       "    </tr>\n",
       "  </tbody>\n",
       "</table>\n",
       "</div>"
      ],
      "text/plain": [
       "            quadkey  avg_d_kbps  avg_u_kbps  avg_lat_ms  tests  devices  \\\n",
       "0  1321222233020202      144116      125751           3   7330     1324   \n",
       "1  1230231303303002       89763       52939          42    726      137   \n",
       "2  0313131210131030       62657       15479          19    271       40   \n",
       "3  0213330110110321       98061       11842          19      2        1   \n",
       "4  3100130032202231       15167        7287           8    674      122   \n",
       "\n",
       "                                            geometry  \n",
       "0  POLYGON ((113.55469 22.16197, 113.56018 22.161...  \n",
       "1  POLYGON ((55.41504 25.27947, 55.42053 25.27947...  \n",
       "2  POLYGON ((-1.79077 51.55658, -1.78528 51.55658...  \n",
       "3  POLYGON ((-93.22449 45.06576, -93.21899 45.065...  \n",
       "4  POLYGON ((107.59460 -6.91552, 107.60010 -6.915...  "
      ]
     },
     "execution_count": 54,
     "metadata": {},
     "output_type": "execute_result"
    }
   ],
   "source": [
    "tiles.head()"
   ]
  },
  {
   "cell_type": "markdown",
   "metadata": {},
   "source": [
    "---\n",
    "\n",
    "## Get county boundaries\n",
    "\n",
    "Then, I’ll load the Kentucky county boundaries from the U.S. Census Bureau ftp site."
   ]
  },
  {
   "cell_type": "code",
   "execution_count": 55,
   "metadata": {},
   "outputs": [],
   "source": [
    "# zipfile of U.S. county boundaries\n",
    "county_url = \"https://www2.census.gov/geo/tiger/TIGER2019/COUNTY/tl_2019_us_county.zip\" \n",
    "counties = gp.read_file(county_url)"
   ]
  },
  {
   "cell_type": "code",
   "execution_count": 56,
   "metadata": {},
   "outputs": [],
   "source": [
    "# filter out the Kentucky fips code and reproject to match the tiles\n",
    "ky_counties = counties.loc[counties['STATEFP'] == '21'].to_crs(4326) "
   ]
  },
  {
   "cell_type": "code",
   "execution_count": 57,
   "metadata": {},
   "outputs": [
    {
     "data": {
      "text/html": [
       "<div>\n",
       "<style scoped>\n",
       "    .dataframe tbody tr th:only-of-type {\n",
       "        vertical-align: middle;\n",
       "    }\n",
       "\n",
       "    .dataframe tbody tr th {\n",
       "        vertical-align: top;\n",
       "    }\n",
       "\n",
       "    .dataframe thead th {\n",
       "        text-align: right;\n",
       "    }\n",
       "</style>\n",
       "<table border=\"1\" class=\"dataframe\">\n",
       "  <thead>\n",
       "    <tr style=\"text-align: right;\">\n",
       "      <th></th>\n",
       "      <th>STATEFP</th>\n",
       "      <th>COUNTYFP</th>\n",
       "      <th>COUNTYNS</th>\n",
       "      <th>GEOID</th>\n",
       "      <th>NAME</th>\n",
       "      <th>NAMELSAD</th>\n",
       "      <th>LSAD</th>\n",
       "      <th>CLASSFP</th>\n",
       "      <th>MTFCC</th>\n",
       "      <th>CSAFP</th>\n",
       "      <th>CBSAFP</th>\n",
       "      <th>METDIVFP</th>\n",
       "      <th>FUNCSTAT</th>\n",
       "      <th>ALAND</th>\n",
       "      <th>AWATER</th>\n",
       "      <th>INTPTLAT</th>\n",
       "      <th>INTPTLON</th>\n",
       "      <th>geometry</th>\n",
       "    </tr>\n",
       "  </thead>\n",
       "  <tbody>\n",
       "    <tr>\n",
       "      <th>9</th>\n",
       "      <td>21</td>\n",
       "      <td>053</td>\n",
       "      <td>00516873</td>\n",
       "      <td>21053</td>\n",
       "      <td>Clinton</td>\n",
       "      <td>Clinton County</td>\n",
       "      <td>06</td>\n",
       "      <td>H1</td>\n",
       "      <td>G4020</td>\n",
       "      <td>None</td>\n",
       "      <td>None</td>\n",
       "      <td>None</td>\n",
       "      <td>A</td>\n",
       "      <td>510875755</td>\n",
       "      <td>21152699</td>\n",
       "      <td>+36.7272577</td>\n",
       "      <td>-085.1360977</td>\n",
       "      <td>POLYGON ((-85.23910 36.76983, -85.23443 36.786...</td>\n",
       "    </tr>\n",
       "    <tr>\n",
       "      <th>58</th>\n",
       "      <td>21</td>\n",
       "      <td>003</td>\n",
       "      <td>00516848</td>\n",
       "      <td>21003</td>\n",
       "      <td>Allen</td>\n",
       "      <td>Allen County</td>\n",
       "      <td>06</td>\n",
       "      <td>H1</td>\n",
       "      <td>G4020</td>\n",
       "      <td>150</td>\n",
       "      <td>14540</td>\n",
       "      <td>None</td>\n",
       "      <td>A</td>\n",
       "      <td>891838779</td>\n",
       "      <td>19482100</td>\n",
       "      <td>+36.7507703</td>\n",
       "      <td>-086.1924580</td>\n",
       "      <td>POLYGON ((-86.29580 36.85107, -86.29347 36.852...</td>\n",
       "    </tr>\n",
       "    <tr>\n",
       "      <th>66</th>\n",
       "      <td>21</td>\n",
       "      <td>231</td>\n",
       "      <td>00516962</td>\n",
       "      <td>21231</td>\n",
       "      <td>Wayne</td>\n",
       "      <td>Wayne County</td>\n",
       "      <td>06</td>\n",
       "      <td>H1</td>\n",
       "      <td>G4020</td>\n",
       "      <td>None</td>\n",
       "      <td>None</td>\n",
       "      <td>None</td>\n",
       "      <td>A</td>\n",
       "      <td>1186690748</td>\n",
       "      <td>67283816</td>\n",
       "      <td>+36.8007715</td>\n",
       "      <td>-084.8265896</td>\n",
       "      <td>POLYGON ((-85.04450 36.87093, -85.03908 36.874...</td>\n",
       "    </tr>\n",
       "    <tr>\n",
       "      <th>133</th>\n",
       "      <td>21</td>\n",
       "      <td>209</td>\n",
       "      <td>00516951</td>\n",
       "      <td>21209</td>\n",
       "      <td>Scott</td>\n",
       "      <td>Scott County</td>\n",
       "      <td>06</td>\n",
       "      <td>H1</td>\n",
       "      <td>G4020</td>\n",
       "      <td>336</td>\n",
       "      <td>30460</td>\n",
       "      <td>None</td>\n",
       "      <td>A</td>\n",
       "      <td>729774435</td>\n",
       "      <td>9440820</td>\n",
       "      <td>+38.2857099</td>\n",
       "      <td>-084.5783405</td>\n",
       "      <td>POLYGON ((-84.58054 38.47304, -84.58010 38.473...</td>\n",
       "    </tr>\n",
       "    <tr>\n",
       "      <th>157</th>\n",
       "      <td>21</td>\n",
       "      <td>061</td>\n",
       "      <td>00516877</td>\n",
       "      <td>21061</td>\n",
       "      <td>Edmonson</td>\n",
       "      <td>Edmonson County</td>\n",
       "      <td>06</td>\n",
       "      <td>H1</td>\n",
       "      <td>G4020</td>\n",
       "      <td>150</td>\n",
       "      <td>14540</td>\n",
       "      <td>None</td>\n",
       "      <td>A</td>\n",
       "      <td>784468358</td>\n",
       "      <td>13258105</td>\n",
       "      <td>+37.2275136</td>\n",
       "      <td>-086.2180153</td>\n",
       "      <td>POLYGON ((-86.39916 37.16990, -86.39932 37.170...</td>\n",
       "    </tr>\n",
       "  </tbody>\n",
       "</table>\n",
       "</div>"
      ],
      "text/plain": [
       "    STATEFP COUNTYFP  COUNTYNS  GEOID      NAME         NAMELSAD LSAD CLASSFP  \\\n",
       "9        21      053  00516873  21053   Clinton   Clinton County   06      H1   \n",
       "58       21      003  00516848  21003     Allen     Allen County   06      H1   \n",
       "66       21      231  00516962  21231     Wayne     Wayne County   06      H1   \n",
       "133      21      209  00516951  21209     Scott     Scott County   06      H1   \n",
       "157      21      061  00516877  21061  Edmonson  Edmonson County   06      H1   \n",
       "\n",
       "     MTFCC CSAFP CBSAFP METDIVFP FUNCSTAT       ALAND    AWATER     INTPTLAT  \\\n",
       "9    G4020  None   None     None        A   510875755  21152699  +36.7272577   \n",
       "58   G4020   150  14540     None        A   891838779  19482100  +36.7507703   \n",
       "66   G4020  None   None     None        A  1186690748  67283816  +36.8007715   \n",
       "133  G4020   336  30460     None        A   729774435   9440820  +38.2857099   \n",
       "157  G4020   150  14540     None        A   784468358  13258105  +37.2275136   \n",
       "\n",
       "         INTPTLON                                           geometry  \n",
       "9    -085.1360977  POLYGON ((-85.23910 36.76983, -85.23443 36.786...  \n",
       "58   -086.1924580  POLYGON ((-86.29580 36.85107, -86.29347 36.852...  \n",
       "66   -084.8265896  POLYGON ((-85.04450 36.87093, -85.03908 36.874...  \n",
       "133  -084.5783405  POLYGON ((-84.58054 38.47304, -84.58010 38.473...  \n",
       "157  -086.2180153  POLYGON ((-86.39916 37.16990, -86.39932 37.170...  "
      ]
     },
     "execution_count": 57,
     "metadata": {},
     "output_type": "execute_result"
    }
   ],
   "source": [
    "ky_counties.head()"
   ]
  },
  {
   "cell_type": "markdown",
   "metadata": {},
   "source": [
    "---\n",
    "\n",
    "## Join tiles to counties\n",
    "\n",
    "Now I’ll join the tiles to the counties. I use how = \"inner\" because I only want to include counties that have at least 1 tile."
   ]
  },
  {
   "cell_type": "code",
   "execution_count": null,
   "metadata": {},
   "outputs": [],
   "source": [
    "tiles_in_ky_counties = gp.sjoin(tiles, ky_counties, how=\"inner\", op='intersects')"
   ]
  },
  {
   "cell_type": "code",
   "execution_count": null,
   "metadata": {},
   "outputs": [],
   "source": [
    "# convert to Mbps for easier reading\n",
    "tiles_in_ky_counties['avg_d_mbps'] = tiles_in_ky_counties['avg_d_kbps'] / 1000\n",
    "tiles_in_ky_counties['avg_u_mbps'] = tiles_in_ky_counties['avg_u_kbps'] / 1000"
   ]
  },
  {
   "cell_type": "code",
   "execution_count": null,
   "metadata": {},
   "outputs": [],
   "source": [
    "tiles_in_ky_counties.head()"
   ]
  },
  {
   "cell_type": "markdown",
   "metadata": {},
   "source": [
    "---\n",
    "\n",
    "## Make a table of the top 20 and bottom 20 counties\n",
    "\n",
    "Next we can make a summary table of just the best and worst counties by download speed. We’ll require that counties have at least 50 tests so that the averages are more reliable."
   ]
  },
  {
   "cell_type": "code",
   "execution_count": null,
   "metadata": {
    "scrolled": true
   },
   "outputs": [],
   "source": [
    "# def weighted_mean(group, avg_name, weight_name):\n",
    "#     \"\"\" http://stackoverflow.com/questions/10951341/pandas-dataframe-aggregate-function-using-multiple-columns\n",
    "#     In rare instance, we may not have weights, so just return the mean. Customize this if your business case\n",
    "#     should return otherwise.\n",
    "#     \"\"\"\n",
    "#     d = group[avg_name]\n",
    "#     w = group[weight_name]\n",
    "#     try:\n",
    "#         return (d * w).sum() / w.sum()\n",
    "#     except ZeroDivisionError:\n",
    "#         return d.mean()\n",
    "    \n",
    "county_stats = (\n",
    "    tiles_in_ky_counties.groupby([\"GEOID\", \"NAMELSAD\"])\n",
    "    .apply(\n",
    "        lambda x: pd.Series(\n",
    "            {\"avg_d_mbps_wt\": np.average(x[\"avg_d_mbps\"], weights=x[\"tests\"])}\n",
    "        )\n",
    "    )\n",
    "    .reset_index()\n",
    "    .merge(\n",
    "        tiles_in_ky_counties.groupby([\"GEOID\", \"NAMELSAD\"])\n",
    "        .agg(tests=(\"GEOID\", \"size\"))\n",
    "        .reset_index(),\n",
    "        on=[\"GEOID\", \"NAMELSAD\"],\n",
    "    )\n",
    ")"
   ]
  },
  {
   "cell_type": "code",
   "execution_count": null,
   "metadata": {},
   "outputs": [],
   "source": [
    "table_stats = (\n",
    "    county_stats.loc[county_stats[\"tests\"] >= 50]\n",
    "    .nlargest(20, \"avg_d_mbps_wt\")\n",
    "    .append(\n",
    "        county_stats.loc[county_stats[\"tests\"] >= 50].nsmallest(20, \"avg_d_mbps_wt\")\n",
    "    )\n",
    "    .sort_values(\"avg_d_mbps_wt\", ascending=False)\n",
    "    .round(2) # round to 2 decimal places for easier reading\n",
    ")"
   ]
  },
  {
   "cell_type": "code",
   "execution_count": null,
   "metadata": {},
   "outputs": [],
   "source": [
    "header = [\"GEOID\", \"County\", \"Avg download speed (Mbps)\", \"Tests\"]\n",
    "\n",
    "table_stats.rename(columns=dict(zip(table_stats.columns, header)))"
   ]
  },
  {
   "cell_type": "markdown",
   "metadata": {},
   "source": [
    "---"
   ]
  },
  {
   "cell_type": "markdown",
   "metadata": {},
   "source": [
    "## Map the counties\n",
    "\n",
    "The table is good for a quick glance at overall patterns (what are the overall maxima and minima? where is the fastest speed?) but unless you’re already familiar with these areas it can be hard to picture where they are on a map. To go along with the table we can produce a quick choropleth map that will help give a more visual representation.\n",
    "\n",
    "We can join our county statistics table to the basemap (remember, we already got rid of the geometry from that county statistics table). I’m also creating a categorical variable from the continuous download speed because people aren’t great at reading continuous color schemes. People can read discrete legends much more easily, with 7 categories maximum (this can depend on the situation, though).\n",
    "\n",
    "One thing that helps people orient themselves on a map is including major place names. The [census FTP site](ftp://ftp2.census.gov/geo/tiger/) makes it fairly easy to get a quick list!"
   ]
  },
  {
   "cell_type": "code",
   "execution_count": null,
   "metadata": {},
   "outputs": [],
   "source": [
    "county_data = ky_counties[['GEOID', 'geometry']].merge(county_stats, on='GEOID').to_crs(26916)"
   ]
  },
  {
   "cell_type": "code",
   "execution_count": null,
   "metadata": {},
   "outputs": [],
   "source": [
    "labels = [\"0 to 25 Mbps\", \"25 to 50 Mbps\", \"50 to 100 Mbps\", \"100 to 150 Mbps\", \"150 to 200 Mbps\"]\n",
    "\n",
    "county_data['group'] = pd.cut(\n",
    "    county_data.avg_d_mbps_wt, \n",
    "    (0, 25, 50, 100, 150, 200), \n",
    "    right=False, \n",
    "    labels = labels\n",
    ")"
   ]
  },
  {
   "cell_type": "code",
   "execution_count": null,
   "metadata": {},
   "outputs": [],
   "source": [
    "# add place labels \n",
    "ky_places = gp.read_file(\"ftp://ftp2.census.gov/geo/tiger/TIGER2019/PLACE/tl_2019_21_place.zip\")"
   ]
  },
  {
   "cell_type": "code",
   "execution_count": null,
   "metadata": {},
   "outputs": [],
   "source": [
    "ky_places = ky_places.loc[ky_places['PCICBSA'] >= \"Y\"].sample(15, random_state=1).to_crs(26916)\n",
    "ky_places[\"centroid\"] = ky_places[\"geometry\"].centroid\n",
    "ky_places.set_geometry(\"centroid\", inplace = True)"
   ]
  },
  {
   "cell_type": "code",
   "execution_count": null,
   "metadata": {},
   "outputs": [],
   "source": [
    "fig, ax = plt.subplots(1, figsize=(16, 6))\n",
    "\n",
    "county_data.plot(\n",
    "    column=\"group\", cmap=\"BuPu\", linewidth=0.4, ax=ax, edgecolor=\"0.1\", legend=True\n",
    ")\n",
    "\n",
    "ax.axis(\"off\")\n",
    "\n",
    "leg = ax.get_legend()\n",
    "leg.set_bbox_to_anchor((1.15, 0.3))\n",
    "leg.set_title(\"Mean download speed (Mbps)\\nin Kentucky Counties\")\n",
    "\n",
    "texts = []\n",
    "for x, y, label in zip(ky_places.geometry.x, ky_places.geometry.y, ky_places[\"NAME\"]):\n",
    "    texts.append(plt.text(x, y, label, fontsize=10, fontweight=\"bold\", ha=\"left\"))\n",
    "\n",
    "adjust_text(\n",
    "    texts,\n",
    "    force_points=0.3,\n",
    "    force_text=0.8,\n",
    "    expand_points=(1, 1),\n",
    "    expand_text=(1, 1),\n",
    "    arrowprops=dict(arrowstyle=\"-\", color=\"black\", lw=0.5),\n",
    ")"
   ]
  }
 ],
 "metadata": {
  "kernelspec": {
   "display_name": "Python 3",
   "language": "python",
   "name": "python3"
  },
  "language_info": {
   "codemirror_mode": {
    "name": "ipython",
    "version": 3
   },
   "file_extension": ".py",
   "mimetype": "text/x-python",
   "name": "python",
   "nbconvert_exporter": "python",
   "pygments_lexer": "ipython3",
   "version": "3.7.8"
  }
 },
 "nbformat": 4,
 "nbformat_minor": 4
}
